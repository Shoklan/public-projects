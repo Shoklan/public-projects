{
 "cells": [
  {
   "attachments": {},
   "cell_type": "markdown",
   "metadata": {},
   "source": [
    "# Sea of Thieves Maps (**Abandoned**)\n",
    "This is going to be used to prototype the pieces for what will become the application for the App Stores.\n",
    "The intended purpose will be to assist players - namely myself - which picking maps along with the other Voyages that players get sent on.\n",
    "Features will include:\n",
    "1. Selecting the Spawned-In Outpost.\n",
    "2. Showing distances from the current Outpost to the available Maps.\n",
    "3. Showing the distance from taken maps and the available maps.\n",
    "\n",
    "We're going to use the Kivy Framework since it supports iOS and Android as a python framework."
   ]
  },
  {
   "cell_type": "code",
   "execution_count": 1,
   "metadata": {
    "vscode": {
     "languageId": "python"
    }
   },
   "outputs": [],
   "source": [
    "import pandas as pd\n",
    "import numpy as np\n",
    "import requests as r\n",
    "import matplotlib.pyplot as plt"
   ]
  },
  {
   "cell_type": "code",
   "execution_count": 2,
   "metadata": {
    "vscode": {
     "languageId": "python"
    }
   },
   "outputs": [],
   "source": [
    "from string import ascii_lowercase as lowercase\n",
    "from sklearn.metrics import pairwise_distances"
   ]
  },
  {
   "cell_type": "markdown",
   "metadata": {},
   "source": [
    "# Collect Data:"
   ]
  },
  {
   "cell_type": "code",
   "execution_count": 3,
   "metadata": {
    "vscode": {
     "languageId": "python"
    }
   },
   "outputs": [],
   "source": [
    "islands = pd.read_html('https://seaofthieves-archive.fandom.com/wiki/Islands')\n",
    "poi = islands[0]"
   ]
  },
  {
   "cell_type": "markdown",
   "metadata": {},
   "source": [
    "# Clean Data:"
   ]
  },
  {
   "cell_type": "code",
   "execution_count": 4,
   "metadata": {
    "vscode": {
     "languageId": "python"
    }
   },
   "outputs": [],
   "source": [
    "# Map the coordinate system to actual numbers:\n",
    "## TODO: \n",
    "xCoor = [ lowercase.index(coor.lower())+1 for coor in poi.Coordinates.str.split('-').apply(lambda x: x[0])]\n",
    "yCoor = poi.Coordinates.str.split('-').apply(lambda x: int(x[1]))\n",
    "\n",
    "poi = poi.assign(\n",
    "    x = xCoor,\n",
    "    y = yCoor,\n",
    ")"
   ]
  },
  {
   "cell_type": "code",
   "execution_count": 8,
   "metadata": {
    "vscode": {
     "languageId": "python"
    }
   },
   "outputs": [
    {
     "data": {
      "text/html": [
       "<div>\n",
       "<style scoped>\n",
       "    .dataframe tbody tr th:only-of-type {\n",
       "        vertical-align: middle;\n",
       "    }\n",
       "\n",
       "    .dataframe tbody tr th {\n",
       "        vertical-align: top;\n",
       "    }\n",
       "\n",
       "    .dataframe thead th {\n",
       "        text-align: right;\n",
       "    }\n",
       "</style>\n",
       "<table border=\"1\" class=\"dataframe\">\n",
       "  <thead>\n",
       "    <tr style=\"text-align: right;\">\n",
       "      <th></th>\n",
       "      <th>Name</th>\n",
       "      <th>Coordinates</th>\n",
       "      <th>Type</th>\n",
       "      <th>Region</th>\n",
       "      <th>x</th>\n",
       "      <th>y</th>\n",
       "    </tr>\n",
       "  </thead>\n",
       "  <tbody>\n",
       "    <tr>\n",
       "      <th>0</th>\n",
       "      <td>Ancient Spires Outpost</td>\n",
       "      <td>Q-17</td>\n",
       "      <td>Outpost</td>\n",
       "      <td>The Ancient Isles</td>\n",
       "      <td>17</td>\n",
       "      <td>17</td>\n",
       "    </tr>\n",
       "    <tr>\n",
       "      <th>1</th>\n",
       "      <td>Dagger Tooth Outpost</td>\n",
       "      <td>M-8</td>\n",
       "      <td>Outpost</td>\n",
       "      <td>The Wilds</td>\n",
       "      <td>13</td>\n",
       "      <td>8</td>\n",
       "    </tr>\n",
       "    <tr>\n",
       "      <th>2</th>\n",
       "      <td>Galleon's Grave Outpost</td>\n",
       "      <td>R-8</td>\n",
       "      <td>Outpost</td>\n",
       "      <td>The Wilds</td>\n",
       "      <td>18</td>\n",
       "      <td>8</td>\n",
       "    </tr>\n",
       "    <tr>\n",
       "      <th>3</th>\n",
       "      <td>Golden Sands Outpost</td>\n",
       "      <td>D-10</td>\n",
       "      <td>Outpost</td>\n",
       "      <td>The Shores of Plenty</td>\n",
       "      <td>4</td>\n",
       "      <td>10</td>\n",
       "    </tr>\n",
       "    <tr>\n",
       "      <th>4</th>\n",
       "      <td>Morrow's Peak Outpost</td>\n",
       "      <td>V-17</td>\n",
       "      <td>Outpost</td>\n",
       "      <td>The Devil's Roar</td>\n",
       "      <td>22</td>\n",
       "      <td>17</td>\n",
       "    </tr>\n",
       "    <tr>\n",
       "      <th>5</th>\n",
       "      <td>Plunder Outpost</td>\n",
       "      <td>J-18</td>\n",
       "      <td>Outpost</td>\n",
       "      <td>The Ancient Isles</td>\n",
       "      <td>10</td>\n",
       "      <td>18</td>\n",
       "    </tr>\n",
       "    <tr>\n",
       "      <th>6</th>\n",
       "      <td>Sanctuary Outpost</td>\n",
       "      <td>F-7</td>\n",
       "      <td>Outpost</td>\n",
       "      <td>The Shores of Plenty</td>\n",
       "      <td>6</td>\n",
       "      <td>7</td>\n",
       "    </tr>\n",
       "    <tr>\n",
       "      <th>7</th>\n",
       "      <td>Brian's Bazaar</td>\n",
       "      <td>Y-12</td>\n",
       "      <td>Seapost</td>\n",
       "      <td>The Devil's Roar</td>\n",
       "      <td>25</td>\n",
       "      <td>12</td>\n",
       "    </tr>\n",
       "    <tr>\n",
       "      <th>8</th>\n",
       "      <td>Roaring Traders</td>\n",
       "      <td>U-20</td>\n",
       "      <td>Seapost</td>\n",
       "      <td>The Devil's Roar</td>\n",
       "      <td>21</td>\n",
       "      <td>20</td>\n",
       "    </tr>\n",
       "    <tr>\n",
       "      <th>9</th>\n",
       "      <td>Stephen's Spoils</td>\n",
       "      <td>L-15</td>\n",
       "      <td>Seapost</td>\n",
       "      <td>The Ancient Isles</td>\n",
       "      <td>12</td>\n",
       "      <td>15</td>\n",
       "    </tr>\n",
       "    <tr>\n",
       "      <th>10</th>\n",
       "      <td>The Finest Trading Post</td>\n",
       "      <td>F-17</td>\n",
       "      <td>Seapost</td>\n",
       "      <td>The Ancient Isles</td>\n",
       "      <td>6</td>\n",
       "      <td>17</td>\n",
       "    </tr>\n",
       "    <tr>\n",
       "      <th>11</th>\n",
       "      <td>The North Star Seapost</td>\n",
       "      <td>H-10</td>\n",
       "      <td>Seapost</td>\n",
       "      <td>The Shores of Plenty</td>\n",
       "      <td>8</td>\n",
       "      <td>10</td>\n",
       "    </tr>\n",
       "    <tr>\n",
       "      <th>12</th>\n",
       "      <td>The Spoils of Plenty Store</td>\n",
       "      <td>B-7</td>\n",
       "      <td>Seapost</td>\n",
       "      <td>The Shores of Plenty</td>\n",
       "      <td>2</td>\n",
       "      <td>7</td>\n",
       "    </tr>\n",
       "    <tr>\n",
       "      <th>13</th>\n",
       "      <td>The Wild Treasures Store</td>\n",
       "      <td>O-4</td>\n",
       "      <td>Seapost</td>\n",
       "      <td>The Wilds</td>\n",
       "      <td>15</td>\n",
       "      <td>4</td>\n",
       "    </tr>\n",
       "    <tr>\n",
       "      <th>14</th>\n",
       "      <td>Three Paces East Seapost</td>\n",
       "      <td>S-9</td>\n",
       "      <td>Seapost</td>\n",
       "      <td>The Wilds</td>\n",
       "      <td>19</td>\n",
       "      <td>9</td>\n",
       "    </tr>\n",
       "    <tr>\n",
       "      <th>15</th>\n",
       "      <td>Barnacle Cay</td>\n",
       "      <td>O-15</td>\n",
       "      <td>Small Island</td>\n",
       "      <td>The Ancient Isles</td>\n",
       "      <td>15</td>\n",
       "      <td>15</td>\n",
       "    </tr>\n",
       "    <tr>\n",
       "      <th>16</th>\n",
       "      <td>Black Sand Atoll</td>\n",
       "      <td>O-3</td>\n",
       "      <td>Small Island</td>\n",
       "      <td>The Wilds</td>\n",
       "      <td>15</td>\n",
       "      <td>3</td>\n",
       "    </tr>\n",
       "    <tr>\n",
       "      <th>17</th>\n",
       "      <td>Black Water Enclave</td>\n",
       "      <td>R-5</td>\n",
       "      <td>Small Island</td>\n",
       "      <td>The Wilds</td>\n",
       "      <td>18</td>\n",
       "      <td>5</td>\n",
       "    </tr>\n",
       "    <tr>\n",
       "      <th>18</th>\n",
       "      <td>Blind Man's Lagoon</td>\n",
       "      <td>N-6</td>\n",
       "      <td>Small Island</td>\n",
       "      <td>The Wilds</td>\n",
       "      <td>14</td>\n",
       "      <td>6</td>\n",
       "    </tr>\n",
       "    <tr>\n",
       "      <th>19</th>\n",
       "      <td>Booty Isle</td>\n",
       "      <td>K-20</td>\n",
       "      <td>Small Island</td>\n",
       "      <td>The Ancient Isles</td>\n",
       "      <td>11</td>\n",
       "      <td>20</td>\n",
       "    </tr>\n",
       "  </tbody>\n",
       "</table>\n",
       "</div>"
      ],
      "text/plain": [
       "                          Name Coordinates          Type  \\\n",
       "0       Ancient Spires Outpost        Q-17       Outpost   \n",
       "1         Dagger Tooth Outpost         M-8       Outpost   \n",
       "2      Galleon's Grave Outpost         R-8       Outpost   \n",
       "3         Golden Sands Outpost        D-10       Outpost   \n",
       "4        Morrow's Peak Outpost        V-17       Outpost   \n",
       "5              Plunder Outpost        J-18       Outpost   \n",
       "6            Sanctuary Outpost         F-7       Outpost   \n",
       "7               Brian's Bazaar        Y-12       Seapost   \n",
       "8              Roaring Traders        U-20       Seapost   \n",
       "9             Stephen's Spoils        L-15       Seapost   \n",
       "10     The Finest Trading Post        F-17       Seapost   \n",
       "11      The North Star Seapost        H-10       Seapost   \n",
       "12  The Spoils of Plenty Store         B-7       Seapost   \n",
       "13    The Wild Treasures Store         O-4       Seapost   \n",
       "14    Three Paces East Seapost         S-9       Seapost   \n",
       "15                Barnacle Cay        O-15  Small Island   \n",
       "16            Black Sand Atoll         O-3  Small Island   \n",
       "17         Black Water Enclave         R-5  Small Island   \n",
       "18          Blind Man's Lagoon         N-6  Small Island   \n",
       "19                  Booty Isle        K-20  Small Island   \n",
       "\n",
       "                  Region   x   y  \n",
       "0      The Ancient Isles  17  17  \n",
       "1              The Wilds  13   8  \n",
       "2              The Wilds  18   8  \n",
       "3   The Shores of Plenty   4  10  \n",
       "4       The Devil's Roar  22  17  \n",
       "5      The Ancient Isles  10  18  \n",
       "6   The Shores of Plenty   6   7  \n",
       "7       The Devil's Roar  25  12  \n",
       "8       The Devil's Roar  21  20  \n",
       "9      The Ancient Isles  12  15  \n",
       "10     The Ancient Isles   6  17  \n",
       "11  The Shores of Plenty   8  10  \n",
       "12  The Shores of Plenty   2   7  \n",
       "13             The Wilds  15   4  \n",
       "14             The Wilds  19   9  \n",
       "15     The Ancient Isles  15  15  \n",
       "16             The Wilds  15   3  \n",
       "17             The Wilds  18   5  \n",
       "18             The Wilds  14   6  \n",
       "19     The Ancient Isles  11  20  "
      ]
     },
     "execution_count": 8,
     "metadata": {},
     "output_type": "execute_result"
    }
   ],
   "source": [
    "poi.head(20)"
   ]
  },
  {
   "cell_type": "markdown",
   "metadata": {},
   "source": [
    "# Compute Logic:"
   ]
  },
  {
   "cell_type": "code",
   "execution_count": 16,
   "metadata": {
    "vscode": {
     "languageId": "python"
    }
   },
   "outputs": [
    {
     "data": {
      "text/plain": [
       "('Ancient Spires Outpost', array([17, 17], dtype=object))"
      ]
     },
     "execution_count": 16,
     "metadata": {},
     "output_type": "execute_result"
    }
   ],
   "source": [
    "# Pick a starting outpost; we'll pick Ancient Spires since it is slot one:\n",
    "outpostCoord = poi.loc[0, ['x','y']].to_numpy()\n",
    "poi.iloc[0].Name, outpostCoord\n",
    "\n"
   ]
  },
  {
   "cell_type": "code",
   "execution_count": 17,
   "metadata": {
    "vscode": {
     "languageId": "python"
    }
   },
   "outputs": [
    {
     "data": {
      "text/html": [
       "<div>\n",
       "<style scoped>\n",
       "    .dataframe tbody tr th:only-of-type {\n",
       "        vertical-align: middle;\n",
       "    }\n",
       "\n",
       "    .dataframe tbody tr th {\n",
       "        vertical-align: top;\n",
       "    }\n",
       "\n",
       "    .dataframe thead th {\n",
       "        text-align: right;\n",
       "    }\n",
       "</style>\n",
       "<table border=\"1\" class=\"dataframe\">\n",
       "  <thead>\n",
       "    <tr style=\"text-align: right;\">\n",
       "      <th></th>\n",
       "      <th>Name</th>\n",
       "      <th>Coordinates</th>\n",
       "      <th>Type</th>\n",
       "      <th>Region</th>\n",
       "      <th>x</th>\n",
       "      <th>y</th>\n",
       "    </tr>\n",
       "  </thead>\n",
       "  <tbody>\n",
       "    <tr>\n",
       "      <th>59</th>\n",
       "      <td>Devil's Ridge</td>\n",
       "      <td>P-19</td>\n",
       "      <td>Large Island</td>\n",
       "      <td>The Ancient Isles</td>\n",
       "      <td>16</td>\n",
       "      <td>19</td>\n",
       "    </tr>\n",
       "    <tr>\n",
       "      <th>76</th>\n",
       "      <td>The Devil's Thirst</td>\n",
       "      <td>W-21</td>\n",
       "      <td>Large Island</td>\n",
       "      <td>The Devil's Roar</td>\n",
       "      <td>23</td>\n",
       "      <td>21</td>\n",
       "    </tr>\n",
       "  </tbody>\n",
       "</table>\n",
       "</div>"
      ],
      "text/plain": [
       "                  Name Coordinates          Type             Region   x   y\n",
       "59       Devil's Ridge        P-19  Large Island  The Ancient Isles  16  19\n",
       "76  The Devil's Thirst        W-21  Large Island   The Devil's Roar  23  21"
      ]
     },
     "execution_count": 17,
     "metadata": {},
     "output_type": "execute_result"
    }
   ],
   "source": [
    "# Pull out Example POIs\n",
    "locations = poi[poi.Name.str.contains(\"Devil\")][['x', 'y']].to_numpy()\n",
    "poi[poi.Name.str.contains(\"Devil\")]"
   ]
  },
  {
   "cell_type": "code",
   "execution_count": 18,
   "metadata": {
    "vscode": {
     "languageId": "python"
    }
   },
   "outputs": [
    {
     "data": {
      "text/plain": [
       "(array([17, 17], dtype=object),\n",
       " array([[16, 19],\n",
       "        [23, 21]]))"
      ]
     },
     "execution_count": 18,
     "metadata": {},
     "output_type": "execute_result"
    }
   ],
   "source": [
    "outpostCoord, locations"
   ]
  },
  {
   "cell_type": "code",
   "execution_count": 20,
   "metadata": {
    "vscode": {
     "languageId": "python"
    }
   },
   "outputs": [
    {
     "data": {
      "text/plain": [
       "[array([2.24, 7.21])]"
      ]
     },
     "execution_count": 20,
     "metadata": {},
     "output_type": "execute_result"
    }
   ],
   "source": [
    "# Compute the Pairwise Distance to the possible POIs\n",
    "outpost.reshape(1, -1)\n",
    "distances = [ np.round(dist, 2) for dist in pairwise_distances(outpost.reshape(1, -1), locations)]\n",
    "distances"
   ]
  },
  {
   "cell_type": "code",
   "execution_count": 21,
   "metadata": {
    "vscode": {
     "languageId": "python"
    }
   },
   "outputs": [
    {
     "data": {
      "text/plain": [
       "\"Devil's Ridge\""
      ]
     },
     "execution_count": 21,
     "metadata": {},
     "output_type": "execute_result"
    }
   ],
   "source": [
    "# Get the winning result\n",
    "# TODO: \n",
    "poi[poi.Name.str.contains(\"Devil\")].iloc[distances[0].argmax()-1].Name"
   ]
  }
 ],
 "metadata": {
  "kernelspec": {
   "display_name": "Python 3 (ipykernel)",
   "language": "python",
   "name": "python3"
  },
  "orig_nbformat": 4,
  "vscode": {
   "interpreter": {
    "hash": "e7370f93d1d0cde622a1f8e1c04877d8463912d04d973331ad4851f04de6915a"
   }
  }
 },
 "nbformat": 4,
 "nbformat_minor": 2
}
