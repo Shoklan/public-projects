{
 "cells": [
  {
   "attachments": {},
   "cell_type": "markdown",
   "metadata": {},
   "source": [
    "# Testing Sentiment Predictability via Political Language\n",
    "This is a updated version of an old project I worked on testing the idea that the Language of different Political Voices had different language usage. The idea for this was inspired by **The Righteous Mind** by *Johnathan Haidt* which I read quite a few years ago. Part of the book included the claim that one could detect the political alignment based on the words used and this was my attempt to replicate it by concept alone.\n",
    "\n",
    "This updated version includes a proper statistical test as opposed to the simple graphing done in the previous version.\n",
    "Unsurprising, images are useful for many things but justifying a hypothesis is not one of them."
   ]
  },
  {
   "cell_type": "code",
   "execution_count": 23,
   "metadata": {},
   "outputs": [],
   "source": [
    "import re\n",
    "from pathlib import Path\n",
    "\n",
    "import tika\n",
    "from tika import parser\n",
    "\n",
    "import pandas as pd\n",
    "import scipy as sp"
   ]
  },
  {
   "cell_type": "code",
   "execution_count": 3,
   "metadata": {},
   "outputs": [],
   "source": [
    "# start the tika VM to pull data from the pdfs\n",
    "tika.initVM()\n",
    "\n",
    "\n",
    "# init pathing.\n",
    "dataPath = Path('__data')\n",
    "burkePath = dataPath/'burke'\n",
    "voltairePath = dataPath/'voltaire'\n",
    "painePath = dataPath/'paine'\n",
    "\n",
    "# This was pulled from the R programming language since this is where I know it existed.\n",
    "nrcFrame = dataPath/'ncr.csv'"
   ]
  },
  {
   "cell_type": "code",
   "execution_count": 4,
   "metadata": {},
   "outputs": [],
   "source": [
    "def extractFromPdfs(inputPath, outFile):\n",
    "    with open(outFile, 'a+') as out:\n",
    "        glob = inputPath.glob(\"*.pdf\")\n",
    "\n",
    "        for f in glob:\n",
    "            try:\n",
    "                # get the data from the server\n",
    "                print(f\"Trying to parse file {f}.\")\n",
    "                parsed = parser.from_file( str(f) )\n",
    "\n",
    "                # files are broken into metadata, content\n",
    "                # filter for usable terms\n",
    "                print(f\"Pull the Words out of {f}.\")\n",
    "                terms = re.findall('\\w+', parsed['content'])\n",
    "\n",
    "                # write them to the file for usage\n",
    "                print(f\"Writing words to output file.\")\n",
    "                for term in terms:\n",
    "                    out.write( term + ',\\n')\n",
    "            except:\n",
    "                print( \"The file \" + f + \" encountered an error.\")"
   ]
  },
  {
   "cell_type": "code",
   "execution_count": 47,
   "metadata": {},
   "outputs": [
    {
     "name": "stdout",
     "output_type": "stream",
     "text": [
      "Trying to parse file __data/voltaire/worksofvoltairec10volt.pdf.\n",
      "Pull the Words out of __data/voltaire/worksofvoltairec10volt.pdf.\n",
      "Writing words to output file.\n",
      "Trying to parse file __data/voltaire/worksofvoltairec14volt.pdf.\n",
      "Pull the Words out of __data/voltaire/worksofvoltairec14volt.pdf.\n",
      "Writing words to output file.\n",
      "Trying to parse file __data/voltaire/worksofvoltairec07volt.pdf.\n",
      "Pull the Words out of __data/voltaire/worksofvoltairec07volt.pdf.\n",
      "Writing words to output file.\n",
      "Trying to parse file __data/voltaire/worksofvoltairec04volt.pdf.\n",
      "Pull the Words out of __data/voltaire/worksofvoltairec04volt.pdf.\n",
      "Writing words to output file.\n"
     ]
    }
   ],
   "source": [
    "# Create the word lists for each thinker\n",
    "extractFromPdfs(burkePath, 'burke.outputs')\n",
    "extractFromPdfs(painePath, 'paine.outputs')\n",
    "extractFromPdfs(voltairePath, 'voltaire.outputs')"
   ]
  },
  {
   "cell_type": "code",
   "execution_count": 5,
   "metadata": {},
   "outputs": [
    {
     "data": {
      "text/html": [
       "<div>\n",
       "<style scoped>\n",
       "    .dataframe tbody tr th:only-of-type {\n",
       "        vertical-align: middle;\n",
       "    }\n",
       "\n",
       "    .dataframe tbody tr th {\n",
       "        vertical-align: top;\n",
       "    }\n",
       "\n",
       "    .dataframe thead th {\n",
       "        text-align: right;\n",
       "    }\n",
       "</style>\n",
       "<table border=\"1\" class=\"dataframe\">\n",
       "  <thead>\n",
       "    <tr style=\"text-align: right;\">\n",
       "      <th></th>\n",
       "      <th>word</th>\n",
       "      <th>sentiment</th>\n",
       "      <th>count</th>\n",
       "    </tr>\n",
       "  </thead>\n",
       "  <tbody>\n",
       "    <tr>\n",
       "      <th>0</th>\n",
       "      <td>abacus</td>\n",
       "      <td>trust</td>\n",
       "      <td>1</td>\n",
       "    </tr>\n",
       "    <tr>\n",
       "      <th>1</th>\n",
       "      <td>abandon</td>\n",
       "      <td>fear</td>\n",
       "      <td>1</td>\n",
       "    </tr>\n",
       "    <tr>\n",
       "      <th>2</th>\n",
       "      <td>abandon</td>\n",
       "      <td>negative</td>\n",
       "      <td>1</td>\n",
       "    </tr>\n",
       "    <tr>\n",
       "      <th>3</th>\n",
       "      <td>abandon</td>\n",
       "      <td>sadness</td>\n",
       "      <td>1</td>\n",
       "    </tr>\n",
       "    <tr>\n",
       "      <th>4</th>\n",
       "      <td>abandoned</td>\n",
       "      <td>anger</td>\n",
       "      <td>1</td>\n",
       "    </tr>\n",
       "    <tr>\n",
       "      <th>...</th>\n",
       "      <td>...</td>\n",
       "      <td>...</td>\n",
       "      <td>...</td>\n",
       "    </tr>\n",
       "    <tr>\n",
       "      <th>13867</th>\n",
       "      <td>zest</td>\n",
       "      <td>anticipation</td>\n",
       "      <td>1</td>\n",
       "    </tr>\n",
       "    <tr>\n",
       "      <th>13868</th>\n",
       "      <td>zest</td>\n",
       "      <td>joy</td>\n",
       "      <td>1</td>\n",
       "    </tr>\n",
       "    <tr>\n",
       "      <th>13869</th>\n",
       "      <td>zest</td>\n",
       "      <td>positive</td>\n",
       "      <td>1</td>\n",
       "    </tr>\n",
       "    <tr>\n",
       "      <th>13870</th>\n",
       "      <td>zest</td>\n",
       "      <td>trust</td>\n",
       "      <td>1</td>\n",
       "    </tr>\n",
       "    <tr>\n",
       "      <th>13871</th>\n",
       "      <td>zip</td>\n",
       "      <td>negative</td>\n",
       "      <td>1</td>\n",
       "    </tr>\n",
       "  </tbody>\n",
       "</table>\n",
       "<p>13872 rows × 3 columns</p>\n",
       "</div>"
      ],
      "text/plain": [
       "            word     sentiment  count\n",
       "0         abacus         trust      1\n",
       "1        abandon          fear      1\n",
       "2        abandon      negative      1\n",
       "3        abandon       sadness      1\n",
       "4      abandoned         anger      1\n",
       "...          ...           ...    ...\n",
       "13867       zest  anticipation      1\n",
       "13868       zest           joy      1\n",
       "13869       zest      positive      1\n",
       "13870       zest         trust      1\n",
       "13871        zip      negative      1\n",
       "\n",
       "[13872 rows x 3 columns]"
      ]
     },
     "execution_count": 5,
     "metadata": {},
     "output_type": "execute_result"
    }
   ],
   "source": [
    "# Mark each word in the sentiment for counting\n",
    "ncr = pd.read_csv(nrcFrame)\n",
    "ncr['count'] = 1\n",
    "ncr\n"
   ]
  },
  {
   "cell_type": "code",
   "execution_count": 16,
   "metadata": {},
   "outputs": [],
   "source": [
    "# Merge burke and ncr for the test\n",
    "burke = pd.read_csv('burke.outputs', names=['word', 'drop']).drop('drop', axis=1)\n",
    "burkeCounted = burke.merge(ncr, how='inner')\\\n",
    "    .groupby('sentiment')\\\n",
    "    .sum('count')\\\n",
    "    .sort_values('count', ascending=False)\\\n",
    "    .reset_index().T # I just like transposing since it looks nicer"
   ]
  },
  {
   "cell_type": "code",
   "execution_count": 17,
   "metadata": {},
   "outputs": [],
   "source": [
    "# same but for voltaire\n",
    "voltaire = pd.read_csv('voltaire.outputs', names=['word', 'drop']).drop('drop', axis=1)\n",
    "voltaireCounted = voltaire.merge(ncr, how='inner')\\\n",
    "    .groupby('sentiment')\\\n",
    "    .sum('count')\\\n",
    "    .sort_values('count', ascending=False)\\\n",
    "    .reset_index().T"
   ]
  },
  {
   "cell_type": "code",
   "execution_count": 18,
   "metadata": {},
   "outputs": [],
   "source": [
    "# same but for paine\n",
    "paine = pd.read_csv('paine.outputs', names=['word', 'drop']).drop('drop', axis=1)\n",
    "paineCounted = paine.merge(ncr, how='inner')\\\n",
    "    .groupby('sentiment')\\\n",
    "    .sum('count')\\\n",
    "    .sort_values('count', ascending=False)\\\n",
    "    .reset_index().T"
   ]
  },
  {
   "cell_type": "code",
   "execution_count": 168,
   "metadata": {},
   "outputs": [],
   "source": [
    "# \n"
   ]
  },
  {
   "cell_type": "code",
   "execution_count": 22,
   "metadata": {},
   "outputs": [
    {
     "data": {
      "text/html": [
       "<div>\n",
       "<style scoped>\n",
       "    .dataframe tbody tr th:only-of-type {\n",
       "        vertical-align: middle;\n",
       "    }\n",
       "\n",
       "    .dataframe tbody tr th {\n",
       "        vertical-align: top;\n",
       "    }\n",
       "\n",
       "    .dataframe thead th {\n",
       "        text-align: right;\n",
       "    }\n",
       "</style>\n",
       "<table border=\"1\" class=\"dataframe\">\n",
       "  <thead>\n",
       "    <tr style=\"text-align: right;\">\n",
       "      <th></th>\n",
       "      <th>positive</th>\n",
       "      <th>negative</th>\n",
       "      <th>trust</th>\n",
       "      <th>anticipation</th>\n",
       "      <th>fear</th>\n",
       "      <th>anger</th>\n",
       "      <th>joy</th>\n",
       "      <th>sadness</th>\n",
       "      <th>disgust</th>\n",
       "      <th>surprise</th>\n",
       "    </tr>\n",
       "  </thead>\n",
       "  <tbody>\n",
       "    <tr>\n",
       "      <th>burke</th>\n",
       "      <td>30511</td>\n",
       "      <td>21607</td>\n",
       "      <td>20445</td>\n",
       "      <td>12585</td>\n",
       "      <td>12337</td>\n",
       "      <td>9715</td>\n",
       "      <td>9368</td>\n",
       "      <td>9119</td>\n",
       "      <td>5932</td>\n",
       "      <td>5024</td>\n",
       "    </tr>\n",
       "    <tr>\n",
       "      <th>voltaire</th>\n",
       "      <td>32530</td>\n",
       "      <td>21227</td>\n",
       "      <td>20682</td>\n",
       "      <td>13517</td>\n",
       "      <td>12629</td>\n",
       "      <td>11914</td>\n",
       "      <td>10535</td>\n",
       "      <td>10098</td>\n",
       "      <td>7056</td>\n",
       "      <td>5716</td>\n",
       "    </tr>\n",
       "    <tr>\n",
       "      <th>paine</th>\n",
       "      <td>18375</td>\n",
       "      <td>13770</td>\n",
       "      <td>12851</td>\n",
       "      <td>8439</td>\n",
       "      <td>8121</td>\n",
       "      <td>6372</td>\n",
       "      <td>6348</td>\n",
       "      <td>6256</td>\n",
       "      <td>3767</td>\n",
       "      <td>3573</td>\n",
       "    </tr>\n",
       "  </tbody>\n",
       "</table>\n",
       "</div>"
      ],
      "text/plain": [
       "          positive  negative  trust  anticipation   fear  anger    joy  \\\n",
       "burke        30511     21607  20445         12585  12337   9715   9368   \n",
       "voltaire     32530     21227  20682         13517  12629  11914  10535   \n",
       "paine        18375     13770  12851          8439   8121   6372   6348   \n",
       "\n",
       "          sadness  disgust  surprise  \n",
       "burke        9119     5932      5024  \n",
       "voltaire    10098     7056      5716  \n",
       "paine        6256     3767      3573  "
      ]
     },
     "execution_count": 22,
     "metadata": {},
     "output_type": "execute_result"
    }
   ],
   "source": [
    "# collect all the data for the test\n",
    "colnames = paineCounted.iloc[0].tolist()\n",
    "ct = pd.DataFrame([burkeCounted.iloc[1], voltaireCounted.iloc[1], paineCounted.iloc[1]])\n",
    "ct.columns=colnames\n",
    "ct.index = ['burke', 'voltaire', 'paine']\n",
    "\n",
    "ct"
   ]
  },
  {
   "cell_type": "code",
   "execution_count": 26,
   "metadata": {},
   "outputs": [],
   "source": [
    "# Test if the language sentiment is detectibly different\n",
    "result = sp.stats.chisquare(ct)"
   ]
  },
  {
   "cell_type": "code",
   "execution_count": 27,
   "metadata": {},
   "outputs": [
    {
     "name": "stdout",
     "output_type": "stream",
     "text": [
      "The Chi-Squared statistic is 4320.07 and the p-value is 0.000E+00.\n"
     ]
    }
   ],
   "source": [
    "print((\n",
    "    f\"The Chi-Squared statistic is {round(result.statistic[0],2)}\"\n",
    "    f\" and the p-value is {result.pvalue[0]:.3E}.\"\n",
    "))"
   ]
  },
  {
   "cell_type": "code",
   "execution_count": 28,
   "metadata": {},
   "outputs": [],
   "source": [
    "# with these values, we fail to reject the null hypothesis"
   ]
  },
  {
   "attachments": {},
   "cell_type": "markdown",
   "metadata": {},
   "source": [
    "## Does this change when I randomly sample from the data frame?\n",
    "We shouldn't do this after the fact and should in fact sample as a matter of methodology. But, oh well.\n",
    "This is a personal project and not a submitted paper so let's play around."
   ]
  },
  {
   "cell_type": "code",
   "execution_count": 29,
   "metadata": {},
   "outputs": [],
   "source": [
    "sampleCount = 30000\n",
    "burkeSampled = burke.sample(sampleCount)\n",
    "voltaireSampled = voltaire.sample(sampleCount)\n",
    "paineSampled = paine.sample(sampleCount)"
   ]
  },
  {
   "cell_type": "code",
   "execution_count": 30,
   "metadata": {},
   "outputs": [],
   "source": [
    "burkeCounted = burkeSampled.merge(ncr, how='inner').groupby('sentiment').sum('count').sort_values('count', ascending=False).reset_index().T\n",
    "voltaireCounted = voltaireSampled.merge(ncr, how='inner').groupby('sentiment').sum('count').sort_values('count', ascending=False).reset_index().T\n",
    "paineCounted = paineSampled.merge(ncr, how='inner').groupby('sentiment').sum('count').sort_values('count', ascending=False).reset_index().T"
   ]
  },
  {
   "cell_type": "code",
   "execution_count": 32,
   "metadata": {},
   "outputs": [
    {
     "data": {
      "text/plain": [
       "(6952, 7129, 6673)"
      ]
     },
     "execution_count": 32,
     "metadata": {},
     "output_type": "execute_result"
    }
   ],
   "source": [
    "# just to sanity check the lengths some;\n",
    "# words get dropped since they are not in our sentiment dictionary\n",
    "len(burkeSampled.merge(ncr, how='inner')), len(voltaireSampled.merge(ncr, how='inner')), len(paineSampled.merge(ncr, how='inner'))"
   ]
  },
  {
   "cell_type": "code",
   "execution_count": 33,
   "metadata": {},
   "outputs": [],
   "source": [
    "ct = pd.DataFrame([burkeCounted.iloc[1], voltaireCounted.iloc[1], paineCounted.iloc[1]])\n",
    "ct.columns=colnames\n",
    "ct.index = ['burke', 'voltaire', 'paine']\n",
    "\n",
    "result = sp.stats.chisquare(ct)"
   ]
  },
  {
   "cell_type": "code",
   "execution_count": 34,
   "metadata": {},
   "outputs": [
    {
     "name": "stdout",
     "output_type": "stream",
     "text": [
      "The Chi-Squared statistic is 17.02 and the p-value is 2.013E-04.\n"
     ]
    }
   ],
   "source": [
    "print((\n",
    "    f\"The Chi-Squared statistic is {round(result.statistic[0],2)}\"\n",
    "    f\" and the p-value is {result.pvalue[0]:.3E}.\"\n",
    "))"
   ]
  },
  {
   "cell_type": "code",
   "execution_count": 35,
   "metadata": {},
   "outputs": [
    {
     "name": "stdout",
     "output_type": "stream",
     "text": [
      "The Chi-Squared statistic is 17.02 and the p-value is 2.013E-04.\n"
     ]
    }
   ],
   "source": [
    "# Check only the positive, negative dimension\n",
    "result = sp.stats.chisquare( ct[['positive', 'negative']] )\n",
    "print((\n",
    "    f\"The Chi-Squared statistic is {round(result.statistic[0],2)}\"\n",
    "    f\" and the p-value is {result.pvalue[0]:.3E}.\"\n",
    "))"
   ]
  },
  {
   "cell_type": "code",
   "execution_count": 36,
   "metadata": {},
   "outputs": [
    {
     "name": "stdout",
     "output_type": "stream",
     "text": [
      "The Chi-Squared statistic is 2.98 and the p-value is 2.252E-01.\n"
     ]
    }
   ],
   "source": [
    "# check the non-positive,negative dimensions\n",
    "result = sp.stats.chisquare( ct.drop(['positive', 'negative'], axis=1) )\n",
    "print((\n",
    "    f\"The Chi-Squared statistic is {round(result.statistic[0],2)}\"\n",
    "    f\" and the p-value is {result.pvalue[0]:.3E}.\"\n",
    "))"
   ]
  },
  {
   "attachments": {},
   "cell_type": "markdown",
   "metadata": {},
   "source": [
    "None of these are strong enough to grant the claim."
   ]
  }
 ],
 "metadata": {
  "kernelspec": {
   "display_name": "Python 3 (ipykernel)",
   "language": "python",
   "name": "python3"
  },
  "language_info": {
   "codemirror_mode": {
    "name": "ipython",
    "version": 3
   },
   "file_extension": ".py",
   "mimetype": "text/x-python",
   "name": "python",
   "nbconvert_exporter": "python",
   "pygments_lexer": "ipython3",
   "version": "3.11.6"
  },
  "orig_nbformat": 4
 },
 "nbformat": 4,
 "nbformat_minor": 2
}
